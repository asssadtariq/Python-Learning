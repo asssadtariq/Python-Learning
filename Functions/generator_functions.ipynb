{
 "cells": [
  {
   "cell_type": "markdown",
   "metadata": {},
   "source": [
    "*Generator Functions*"
   ]
  },
  {
   "cell_type": "code",
   "execution_count": 36,
   "metadata": {},
   "outputs": [],
   "source": [
    "#   kind of functions that do not store value but know the information how to get the value\n",
    "#   return generator object, which is accessible using for-loop and next keyword\n",
    "#   use Yield keyword to make a function - generator function\n",
    "#   used to handle large stream of data   "
   ]
  },
  {
   "cell_type": "code",
   "execution_count": 2,
   "metadata": {},
   "outputs": [],
   "source": [
    "def generator():\n",
    "    for i in range(0, 1000):\n",
    "        yield i"
   ]
  },
  {
   "cell_type": "code",
   "execution_count": 40,
   "metadata": {},
   "outputs": [
    {
     "name": "stdout",
     "output_type": "stream",
     "text": [
      "0\n",
      "1\n",
      "2\n",
      "3\n"
     ]
    }
   ],
   "source": [
    "gen_obj = generator()\n",
    "print(next(gen_obj))\n",
    "print(next(gen_obj))\n",
    "print(next(gen_obj))\n",
    "print(next(gen_obj))"
   ]
  },
  {
   "cell_type": "code",
   "execution_count": 41,
   "metadata": {},
   "outputs": [
    {
     "name": "stdout",
     "output_type": "stream",
     "text": [
      "4\n",
      "5\n",
      "6\n",
      "7\n"
     ]
    }
   ],
   "source": [
    "print(next(gen_obj))\n",
    "print(next(gen_obj))\n",
    "print(next(gen_obj))\n",
    "print(next(gen_obj))"
   ]
  },
  {
   "cell_type": "code",
   "execution_count": 101,
   "metadata": {},
   "outputs": [],
   "source": [
    "def get_fiboacci(num):\n",
    "    if 1 == num == 0: return num\n",
    "\n",
    "    sum = 1\n",
    "    prev = 1\n",
    "    for i in range(2, num, 1):\n",
    "        new_sum = sum + prev\n",
    "        prev = sum\n",
    "        sum = new_sum\n",
    "        yield sum\n"
   ]
  },
  {
   "cell_type": "code",
   "execution_count": 108,
   "metadata": {},
   "outputs": [],
   "source": [
    "fib = get_fiboacci(12)"
   ]
  },
  {
   "cell_type": "code",
   "execution_count": 109,
   "metadata": {},
   "outputs": [
    {
     "name": "stdout",
     "output_type": "stream",
     "text": [
      "2\n",
      "3\n",
      "5\n",
      "8\n",
      "13\n"
     ]
    }
   ],
   "source": [
    "for i in range(5):\n",
    "    print(next(fib))"
   ]
  }
 ],
 "metadata": {
  "kernelspec": {
   "display_name": "Python 3",
   "language": "python",
   "name": "python3"
  },
  "language_info": {
   "codemirror_mode": {
    "name": "ipython",
    "version": 3
   },
   "file_extension": ".py",
   "mimetype": "text/x-python",
   "name": "python",
   "nbconvert_exporter": "python",
   "pygments_lexer": "ipython3",
   "version": "3.9.5"
  }
 },
 "nbformat": 4,
 "nbformat_minor": 2
}
