{
 "cells": [
  {
   "cell_type": "markdown",
   "metadata": {},
   "source": [
    "*Lambda Map Reduce Filter etc Functions*"
   ]
  },
  {
   "cell_type": "code",
   "execution_count": 1,
   "metadata": {},
   "outputs": [],
   "source": [
    "def calculate_power(mylist):\n",
    "    return mylist**2"
   ]
  },
  {
   "cell_type": "code",
   "execution_count": 2,
   "metadata": {},
   "outputs": [
    {
     "data": {
      "text/plain": [
       "[1, 4, 9, 16, 25]"
      ]
     },
     "execution_count": 2,
     "metadata": {},
     "output_type": "execute_result"
    }
   ],
   "source": [
    "numbers = [1, 2, 3, 4, 5]\n",
    "powered = list(map(calculate_power, numbers))\n",
    "powered"
   ]
  },
  {
   "cell_type": "code",
   "execution_count": 3,
   "metadata": {},
   "outputs": [],
   "source": [
    "def get_even(value):\n",
    "    return value if value % 2 == 0 else None"
   ]
  },
  {
   "cell_type": "code",
   "execution_count": 4,
   "metadata": {},
   "outputs": [
    {
     "data": {
      "text/plain": [
       "[2, 4]"
      ]
     },
     "execution_count": 4,
     "metadata": {},
     "output_type": "execute_result"
    }
   ],
   "source": [
    "even = list(filter(get_even, numbers))\n",
    "even"
   ]
  },
  {
   "cell_type": "markdown",
   "metadata": {},
   "source": [
    "*Reduce*"
   ]
  },
  {
   "cell_type": "code",
   "execution_count": 5,
   "metadata": {},
   "outputs": [],
   "source": [
    "from functools import reduce"
   ]
  },
  {
   "cell_type": "code",
   "execution_count": 6,
   "metadata": {},
   "outputs": [],
   "source": [
    "def sub_values(num1, num2):\n",
    "    print(f\"{num1} - {num2}\")\n",
    "    return num1 - num2 "
   ]
  },
  {
   "cell_type": "code",
   "execution_count": 7,
   "metadata": {},
   "outputs": [
    {
     "name": "stdout",
     "output_type": "stream",
     "text": [
      "1 - 2\n",
      "-1 - 3\n",
      "-4 - 4\n",
      "-8 - 5\n"
     ]
    },
    {
     "data": {
      "text/plain": [
       "-13"
      ]
     },
     "execution_count": 7,
     "metadata": {},
     "output_type": "execute_result"
    }
   ],
   "source": [
    "reduce_result = reduce(sub_values, numbers)\n",
    "reduce_result"
   ]
  },
  {
   "cell_type": "markdown",
   "metadata": {},
   "source": [
    "*Accumulate*"
   ]
  },
  {
   "cell_type": "code",
   "execution_count": 8,
   "metadata": {},
   "outputs": [],
   "source": [
    "from itertools import accumulate"
   ]
  },
  {
   "cell_type": "code",
   "execution_count": 9,
   "metadata": {},
   "outputs": [],
   "source": [
    "def product(num1, num2):\n",
    "    print(f\"{num1} , {num2}\")\n",
    "    return num1 * num2"
   ]
  },
  {
   "cell_type": "code",
   "execution_count": 10,
   "metadata": {},
   "outputs": [
    {
     "name": "stdout",
     "output_type": "stream",
     "text": [
      "1 , 2\n",
      "2 , 3\n",
      "6 , 4\n",
      "24 , 5\n"
     ]
    },
    {
     "data": {
      "text/plain": [
       "[1, 2, 6, 24, 120]"
      ]
     },
     "execution_count": 10,
     "metadata": {},
     "output_type": "execute_result"
    }
   ],
   "source": [
    "prod = list(accumulate(func=product, iterable=numbers))\n",
    "prod"
   ]
  },
  {
   "cell_type": "markdown",
   "metadata": {},
   "source": [
    "*Lambda Functions*"
   ]
  },
  {
   "cell_type": "markdown",
   "metadata": {},
   "source": [
    "Lambda Functions are Anonymous functions, it can have multiple arguments but have only one expression. Expression is evaluated and returned"
   ]
  },
  {
   "cell_type": "code",
   "execution_count": 11,
   "metadata": {},
   "outputs": [],
   "source": [
    "import re"
   ]
  },
  {
   "cell_type": "code",
   "execution_count": 12,
   "metadata": {},
   "outputs": [],
   "source": [
    "def remove_special_characters(mystr):\n",
    "    return re.sub(r'[^0-9a-zA-Z\\s]', '', mystr)"
   ]
  },
  {
   "cell_type": "code",
   "execution_count": 13,
   "metadata": {},
   "outputs": [],
   "source": [
    "text = \"Lorem ipsum dolor sit amet, consectetur adipiscing elit. Fusce ac % ma&@( *** 88 )@ urna *** 8# 7! et ligula. Sed $^%#% varius tortor vel #@@@@%## lacinia! Nullam volutpat! ? adipiscing @^%#% aliquam, id euismod **#^!&^ purus e#@%%, ultricies velit. Etiam ultricies &^$#&% 8# urna at !^#+ malesuada. Aenean eget %?##%## interdum mi, $@@%#& eget ?##%## varius mi. Nullam sed $@##^?^@$ orci. Suspendisse vel ^^#!(@ placerat %!^&%% ligula, !^^$! 8##?%#^&$ vitae!#^%?## vel !&%!$!&%! eu. Sed congue eros $&^?@& in *** ex ultricies %^?^!@&##. In in condimentum! ??$#!# eu ?#?##$ neque. Pellentesque tristique %%%$%## eleifend. Fusce !##&(@ consectetur arcu. Nullam eget ##^^$ condimentum. Etiam sed %^?%% urna ?$?%%# id ?^!?%% pretium. Quisque $#?%@?(@ eu @?%#$# velit. Suspendisse potenti. Sed $#&##%( eros, eu euismod arcu. Nunc fringilla ^@%##% elit %##%%# non ?#%%^ rhoncus. Nunc !?#!?#?# nec %!^^%!% semper $!%#!@%??@!@#. Donec %^!##?^#@ sit amet $@@#!# lectus. Quisque vitae $%%?%@ odio. Nulla elementum, !#?@&^@## vel ^#^%%#??*??#$# consequat. Integer %%%%$%%## laoreet urna. Morbi non $?@?^?^?@##@?## ipsum. Mauris consequat $^##%%#($#@% non ^%@!$#?#@!^? urna $@#^$##@. Vivamus $^$#% consequat ##^#$$%##! eu $@#?#??##?#@%##?@?###?#?#?#?#?!##?#?#? eu volutpat.\""
   ]
  },
  {
   "cell_type": "code",
   "execution_count": 14,
   "metadata": {},
   "outputs": [
    {
     "name": "stdout",
     "output_type": "stream",
     "text": [
      "Lorem ipsum dolor sit amet, consectetur adipiscing elit. Fusce ac % ma&@( *** 88 )@ urna *** 8# 7! et ligula. Sed $^%#% varius tortor vel #@@@@%## lacinia! Nullam volutpat! ? adipiscing @^%#% aliquam, id euismod **#^!&^ purus e#@%%, ultricies velit. Etiam ultricies &^$#&% 8# urna at !^#+ malesuada. Aenean eget %?##%## interdum mi, $@@%#& eget ?##%## varius mi. Nullam sed $@##^?^@$ orci. Suspendisse vel ^^#!(@ placerat %!^&%% ligula, !^^$! 8##?%#^&$ vitae!#^%?## vel !&%!$!&%! eu. Sed congue eros $&^?@& in *** ex ultricies %^?^!@&##. In in condimentum! ??$#!# eu ?#?##$ neque. Pellentesque tristique %%%$%## eleifend. Fusce !##&(@ consectetur arcu. Nullam eget ##^^$ condimentum. Etiam sed %^?%% urna ?$?%%# id ?^!?%% pretium. Quisque $#?%@?(@ eu @?%#$# velit. Suspendisse potenti. Sed $#&##%( eros, eu euismod arcu. Nunc fringilla ^@%##% elit %##%%# non ?#%%^ rhoncus. Nunc !?#!?#?# nec %!^^%!% semper $!%#!@%??@!@#. Donec %^!##?^#@ sit amet $@@#!# lectus. Quisque vitae $%%?%@ odio. Nulla elementum, !#?@&^@## vel ^#^%%#??*??#$# consequat. Integer %%%%$%%## laoreet urna. Morbi non $?@?^?^?@##@?## ipsum. Mauris consequat $^##%%#($#@% non ^%@!$#?#@!^? urna $@#^$##@. Vivamus $^$#% consequat ##^#$$%##! eu $@#?#??##?#@%##?@?###?#?#?#?#?!##?#?#? eu volutpat.\n"
     ]
    }
   ],
   "source": [
    "print(text)"
   ]
  },
  {
   "cell_type": "code",
   "execution_count": 15,
   "metadata": {},
   "outputs": [
    {
     "data": {
      "text/plain": [
       "'Lorem ipsum dolor sit amet consectetur adipiscing elit Fusce ac  ma  88  urna  8 7 et ligula Sed  varius tortor vel  lacinia Nullam volutpat  adipiscing  aliquam id euismod  purus e ultricies velit Etiam ultricies  8 urna at  malesuada Aenean eget  interdum mi  eget  varius mi Nullam sed  orci Suspendisse vel  placerat  ligula  8 vitae vel  eu Sed congue eros  in  ex ultricies  In in condimentum  eu  neque Pellentesque tristique  eleifend Fusce  consectetur arcu Nullam eget  condimentum Etiam sed  urna  id  pretium Quisque  eu  velit Suspendisse potenti Sed  eros eu euismod arcu Nunc fringilla  elit  non  rhoncus Nunc  nec  semper  Donec  sit amet  lectus Quisque vitae  odio Nulla elementum  vel  consequat Integer  laoreet urna Morbi non  ipsum Mauris consequat  non  urna  Vivamus  consequat  eu  eu volutpat'"
      ]
     },
     "execution_count": 15,
     "metadata": {},
     "output_type": "execute_result"
    }
   ],
   "source": [
    "remove_special_characters(text) "
   ]
  },
  {
   "cell_type": "code",
   "execution_count": 16,
   "metadata": {},
   "outputs": [
    {
     "data": {
      "text/plain": [
       "'Lorem ipsum dolor sit amet consectetur adipiscing elit Fusce ac  ma  88  urna  8 7 et ligula Sed  varius tortor vel  lacinia Nullam volutpat  adipiscing  aliquam id euismod  purus e ultricies velit Etiam ultricies  8 urna at  malesuada Aenean eget  interdum mi  eget  varius mi Nullam sed  orci Suspendisse vel  placerat  ligula  8 vitae vel  eu Sed congue eros  in  ex ultricies  In in condimentum  eu  neque Pellentesque tristique  eleifend Fusce  consectetur arcu Nullam eget  condimentum Etiam sed  urna  id  pretium Quisque  eu  velit Suspendisse potenti Sed  eros eu euismod arcu Nunc fringilla  elit  non  rhoncus Nunc  nec  semper  Donec  sit amet  lectus Quisque vitae  odio Nulla elementum  vel  consequat Integer  laoreet urna Morbi non  ipsum Mauris consequat  non  urna  Vivamus  consequat  eu  eu volutpat'"
      ]
     },
     "execution_count": 16,
     "metadata": {},
     "output_type": "execute_result"
    }
   ],
   "source": [
    "remove_special_characters_lambda = lambda mystr: re.sub(r'[^0-9a-zA-Z\\s]', '', mystr)\n",
    "remove_special_characters(text)"
   ]
  },
  {
   "cell_type": "markdown",
   "metadata": {},
   "source": [
    "*Task: 1 - Calculate Sum of Squared Even Numbers*"
   ]
  },
  {
   "cell_type": "code",
   "execution_count": 17,
   "metadata": {},
   "outputs": [],
   "source": [
    "from random import randint"
   ]
  },
  {
   "cell_type": "code",
   "execution_count": 18,
   "metadata": {},
   "outputs": [
    {
     "data": {
      "text/plain": [
       "[563,\n",
       " 128,\n",
       " 917,\n",
       " 783,\n",
       " 162,\n",
       " 968,\n",
       " 568,\n",
       " 625,\n",
       " 623,\n",
       " 415,\n",
       " 268,\n",
       " 891,\n",
       " 345,\n",
       " 457,\n",
       " 774,\n",
       " 410]"
      ]
     },
     "execution_count": 18,
     "metadata": {},
     "output_type": "execute_result"
    }
   ],
   "source": [
    "numbers = [randint(0, 1000) for i in range(16)]\n",
    "numbers"
   ]
  },
  {
   "cell_type": "code",
   "execution_count": 19,
   "metadata": {},
   "outputs": [],
   "source": [
    "''' Writing Lambda Functions for the tasks '''\n",
    "get_even = lambda num: num if num % 2 ==0 else None\n",
    "cal_square = lambda num: num ** 2\n",
    "cal_sum = lambda num1, num2: num1 + num2"
   ]
  },
  {
   "cell_type": "code",
   "execution_count": 20,
   "metadata": {},
   "outputs": [
    {
     "data": {
      "text/plain": [
       "[128, 162, 968, 568, 268, 774, 410]"
      ]
     },
     "execution_count": 20,
     "metadata": {},
     "output_type": "execute_result"
    }
   ],
   "source": [
    "even_numbers = list(filter(get_even, numbers))\n",
    "even_numbers"
   ]
  },
  {
   "cell_type": "code",
   "execution_count": 21,
   "metadata": {},
   "outputs": [
    {
     "data": {
      "text/plain": [
       "[16384, 26244, 937024, 322624, 71824, 599076, 168100]"
      ]
     },
     "execution_count": 21,
     "metadata": {},
     "output_type": "execute_result"
    }
   ],
   "source": [
    "squared_numbers = list(map(cal_square, even_numbers))\n",
    "squared_numbers"
   ]
  },
  {
   "cell_type": "code",
   "execution_count": 22,
   "metadata": {},
   "outputs": [
    {
     "data": {
      "text/plain": [
       "2141276"
      ]
     },
     "execution_count": 22,
     "metadata": {},
     "output_type": "execute_result"
    }
   ],
   "source": [
    "sum_value = reduce(cal_sum, squared_numbers)\n",
    "sum_value"
   ]
  },
  {
   "cell_type": "markdown",
   "metadata": {},
   "source": [
    "*Task2: Analyzing Student Grades*"
   ]
  },
  {
   "cell_type": "code",
   "execution_count": 23,
   "metadata": {},
   "outputs": [],
   "source": [
    "# Task\n",
    "    # Calculate the average score for each student.\n",
    "    # Filter out students who have an average score below a certain threshold. 60 - 80\n",
    "    # Find the student with the highest average score.\n",
    "    # Calculate the overall class average."
   ]
  },
  {
   "cell_type": "code",
   "execution_count": 24,
   "metadata": {},
   "outputs": [],
   "source": [
    "students = [\n",
    "    {\"name\": \"Alice\", \"scores\": [85, 90, 78, 92, 88]},\n",
    "    {\"name\": \"Bob\", \"scores\": [78, 85, 90, 88, 92]},\n",
    "    {\"name\": \"Charlie\", \"scores\": [90, 92, 88, 78, 85]},\n",
    "    {\"name\": \"David\", \"scores\": [88, 82, 95, 76, 90]},\n",
    "    {\"name\": \"Eve\", \"scores\": [92, 91, 89, 87, 84]},\n",
    "    {\"name\": \"Frank\", \"scores\": [79, 86, 93, 89, 77]},\n",
    "    {\"name\": \"Grace\", \"scores\": [84, 88, 92, 87, 91]},\n",
    "    {\"name\": \"Helen\", \"scores\": [90, 88, 85, 92, 79]},\n",
    "    {\"name\": \"Isaac\", \"scores\": [86, 92, 78, 84, 90]},\n",
    "    {\"name\": \"Julia\", \"scores\": [92, 84, 88, 85, 91]},\n",
    "    {\"name\": \"Kevin\", \"scores\": [78, 88, 92, 85, 90]},\n",
    "    {\"name\": \"Linda\", \"scores\": [84, 86, 90, 88, 91]},\n",
    "    {\"name\": \"Michael\", \"scores\": [90, 87, 84, 88, 92]},\n",
    "    {\"name\": \"Nancy\", \"scores\": [85, 88, 92, 90, 78]},\n",
    "    {\"name\": \"Oliver\", \"scores\": [92, 88, 85, 78, 90]},\n",
    "    {\"name\": \"Pamela\", \"scores\": [88, 90, 78, 92, 85]},\n",
    "    {\"name\": \"Quincy\", \"scores\": [85, 92, 88, 90, 78]},\n",
    "    {\"name\": \"Rachel\", \"scores\": [90, 88, 85, 92, 78]},\n",
    "    {\"name\": \"Samuel\", \"scores\": [78, 88, 90, 85, 92]},\n",
    "    {\"name\": \"Tina\", \"scores\": [85, 78, 88, 92, 90]},\n",
    "    {\"name\": \"Ulysses\", \"scores\": [92, 85, 88, 90, 78]},\n",
    "]"
   ]
  },
  {
   "cell_type": "code",
   "execution_count": 25,
   "metadata": {},
   "outputs": [],
   "source": [
    "# Calculate Avg for each Student"
   ]
  },
  {
   "cell_type": "code",
   "execution_count": 26,
   "metadata": {},
   "outputs": [],
   "source": [
    "def calculate_avg(student_dict):\n",
    "    student_dict['average'] = sum(student_dict['scores']) / len(student_dict['scores'])\n",
    "    return student_dict\n",
    "\n",
    "def get_specific_students(student_dict, threshold):\n",
    "    return student_dict if student_dict['average'] >= threshold else None\n",
    "\n",
    "def get_highest_scores(student_dict):\n",
    "    \n",
    "    return student_dict"
   ]
  },
  {
   "cell_type": "code",
   "execution_count": 29,
   "metadata": {},
   "outputs": [
    {
     "data": {
      "text/plain": [
       "[{'name': 'Alice', 'scores': [85, 90, 78, 92, 88], 'average': 86.6},\n",
       " {'name': 'Bob', 'scores': [78, 85, 90, 88, 92], 'average': 86.6},\n",
       " {'name': 'Charlie', 'scores': [90, 92, 88, 78, 85], 'average': 86.6},\n",
       " {'name': 'David', 'scores': [88, 82, 95, 76, 90], 'average': 86.2},\n",
       " {'name': 'Eve', 'scores': [92, 91, 89, 87, 84], 'average': 88.6},\n",
       " {'name': 'Frank', 'scores': [79, 86, 93, 89, 77], 'average': 84.8},\n",
       " {'name': 'Grace', 'scores': [84, 88, 92, 87, 91], 'average': 88.4},\n",
       " {'name': 'Helen', 'scores': [90, 88, 85, 92, 79], 'average': 86.8},\n",
       " {'name': 'Isaac', 'scores': [86, 92, 78, 84, 90], 'average': 86.0},\n",
       " {'name': 'Julia', 'scores': [92, 84, 88, 85, 91], 'average': 88.0},\n",
       " {'name': 'Kevin', 'scores': [78, 88, 92, 85, 90], 'average': 86.6},\n",
       " {'name': 'Linda', 'scores': [84, 86, 90, 88, 91], 'average': 87.8},\n",
       " {'name': 'Michael', 'scores': [90, 87, 84, 88, 92], 'average': 88.2},\n",
       " {'name': 'Nancy', 'scores': [85, 88, 92, 90, 78], 'average': 86.6},\n",
       " {'name': 'Oliver', 'scores': [92, 88, 85, 78, 90], 'average': 86.6},\n",
       " {'name': 'Pamela', 'scores': [88, 90, 78, 92, 85], 'average': 86.6},\n",
       " {'name': 'Quincy', 'scores': [85, 92, 88, 90, 78], 'average': 86.6},\n",
       " {'name': 'Rachel', 'scores': [90, 88, 85, 92, 78], 'average': 86.6},\n",
       " {'name': 'Samuel', 'scores': [78, 88, 90, 85, 92], 'average': 86.6},\n",
       " {'name': 'Tina', 'scores': [85, 78, 88, 92, 90], 'average': 86.6},\n",
       " {'name': 'Ulysses', 'scores': [92, 85, 88, 90, 78], 'average': 86.6}]"
      ]
     },
     "execution_count": 29,
     "metadata": {},
     "output_type": "execute_result"
    }
   ],
   "source": [
    "list(map(calculate_avg, students)) # it will calculate average to original object"
   ]
  },
  {
   "cell_type": "code",
   "execution_count": 30,
   "metadata": {},
   "outputs": [
    {
     "data": {
      "text/plain": [
       "21"
      ]
     },
     "execution_count": 30,
     "metadata": {},
     "output_type": "execute_result"
    }
   ],
   "source": [
    "len(students)"
   ]
  },
  {
   "cell_type": "code",
   "execution_count": 32,
   "metadata": {},
   "outputs": [
    {
     "data": {
      "text/plain": [
       "[{'name': 'Alice', 'scores': [85, 90, 78, 92, 88], 'average': 86.6},\n",
       " {'name': 'Bob', 'scores': [78, 85, 90, 88, 92], 'average': 86.6},\n",
       " {'name': 'Charlie', 'scores': [90, 92, 88, 78, 85], 'average': 86.6},\n",
       " {'name': 'David', 'scores': [88, 82, 95, 76, 90], 'average': 86.2},\n",
       " {'name': 'Eve', 'scores': [92, 91, 89, 87, 84], 'average': 88.6},\n",
       " {'name': 'Frank', 'scores': [79, 86, 93, 89, 77], 'average': 84.8},\n",
       " {'name': 'Grace', 'scores': [84, 88, 92, 87, 91], 'average': 88.4},\n",
       " {'name': 'Helen', 'scores': [90, 88, 85, 92, 79], 'average': 86.8},\n",
       " {'name': 'Isaac', 'scores': [86, 92, 78, 84, 90], 'average': 86.0},\n",
       " {'name': 'Julia', 'scores': [92, 84, 88, 85, 91], 'average': 88.0},\n",
       " {'name': 'Kevin', 'scores': [78, 88, 92, 85, 90], 'average': 86.6},\n",
       " {'name': 'Linda', 'scores': [84, 86, 90, 88, 91], 'average': 87.8},\n",
       " {'name': 'Michael', 'scores': [90, 87, 84, 88, 92], 'average': 88.2},\n",
       " {'name': 'Nancy', 'scores': [85, 88, 92, 90, 78], 'average': 86.6},\n",
       " {'name': 'Oliver', 'scores': [92, 88, 85, 78, 90], 'average': 86.6},\n",
       " {'name': 'Pamela', 'scores': [88, 90, 78, 92, 85], 'average': 86.6},\n",
       " {'name': 'Quincy', 'scores': [85, 92, 88, 90, 78], 'average': 86.6},\n",
       " {'name': 'Rachel', 'scores': [90, 88, 85, 92, 78], 'average': 86.6},\n",
       " {'name': 'Samuel', 'scores': [78, 88, 90, 85, 92], 'average': 86.6},\n",
       " {'name': 'Tina', 'scores': [85, 78, 88, 92, 90], 'average': 86.6},\n",
       " {'name': 'Ulysses', 'scores': [92, 85, 88, 90, 78], 'average': 86.6}]"
      ]
     },
     "execution_count": 32,
     "metadata": {},
     "output_type": "execute_result"
    }
   ],
   "source": [
    "students"
   ]
  },
  {
   "cell_type": "code",
   "execution_count": 34,
   "metadata": {},
   "outputs": [
    {
     "data": {
      "text/plain": [
       "([{'name': 'Alice', 'scores': [85, 90, 78, 92, 88], 'average': 86.6},\n",
       "  {'name': 'Bob', 'scores': [78, 85, 90, 88, 92], 'average': 86.6},\n",
       "  {'name': 'Charlie', 'scores': [90, 92, 88, 78, 85], 'average': 86.6},\n",
       "  {'name': 'Eve', 'scores': [92, 91, 89, 87, 84], 'average': 88.6},\n",
       "  {'name': 'Grace', 'scores': [84, 88, 92, 87, 91], 'average': 88.4},\n",
       "  {'name': 'Helen', 'scores': [90, 88, 85, 92, 79], 'average': 86.8},\n",
       "  {'name': 'Julia', 'scores': [92, 84, 88, 85, 91], 'average': 88.0},\n",
       "  {'name': 'Kevin', 'scores': [78, 88, 92, 85, 90], 'average': 86.6},\n",
       "  {'name': 'Linda', 'scores': [84, 86, 90, 88, 91], 'average': 87.8},\n",
       "  {'name': 'Michael', 'scores': [90, 87, 84, 88, 92], 'average': 88.2},\n",
       "  {'name': 'Nancy', 'scores': [85, 88, 92, 90, 78], 'average': 86.6},\n",
       "  {'name': 'Oliver', 'scores': [92, 88, 85, 78, 90], 'average': 86.6},\n",
       "  {'name': 'Pamela', 'scores': [88, 90, 78, 92, 85], 'average': 86.6},\n",
       "  {'name': 'Quincy', 'scores': [85, 92, 88, 90, 78], 'average': 86.6},\n",
       "  {'name': 'Rachel', 'scores': [90, 88, 85, 92, 78], 'average': 86.6},\n",
       "  {'name': 'Samuel', 'scores': [78, 88, 90, 85, 92], 'average': 86.6},\n",
       "  {'name': 'Tina', 'scores': [85, 78, 88, 92, 90], 'average': 86.6},\n",
       "  {'name': 'Ulysses', 'scores': [92, 85, 88, 90, 78], 'average': 86.6}],\n",
       " 18)"
      ]
     },
     "execution_count": 34,
     "metadata": {},
     "output_type": "execute_result"
    }
   ],
   "source": [
    "distinct_students = list(filter(lambda student: get_specific_students(student, 86.5), students))\n",
    "distinct_students, len(distinct_students)"
   ]
  },
  {
   "cell_type": "code",
   "execution_count": 33,
   "metadata": {},
   "outputs": [
    {
     "data": {
      "text/plain": [
       "[{'name': 'Alice', 'scores': [85, 90, 78, 92, 88], 'average': 86.6},\n",
       " {'name': 'Bob', 'scores': [78, 85, 90, 88, 92], 'average': 86.6},\n",
       " {'name': 'Charlie', 'scores': [90, 92, 88, 78, 85], 'average': 86.6},\n",
       " {'name': 'David', 'scores': [88, 82, 95, 76, 90], 'average': 86.2},\n",
       " {'name': 'Eve', 'scores': [92, 91, 89, 87, 84], 'average': 88.6},\n",
       " {'name': 'Frank', 'scores': [79, 86, 93, 89, 77], 'average': 84.8},\n",
       " {'name': 'Grace', 'scores': [84, 88, 92, 87, 91], 'average': 88.4},\n",
       " {'name': 'Helen', 'scores': [90, 88, 85, 92, 79], 'average': 86.8},\n",
       " {'name': 'Isaac', 'scores': [86, 92, 78, 84, 90], 'average': 86.0},\n",
       " {'name': 'Julia', 'scores': [92, 84, 88, 85, 91], 'average': 88.0},\n",
       " {'name': 'Kevin', 'scores': [78, 88, 92, 85, 90], 'average': 86.6},\n",
       " {'name': 'Linda', 'scores': [84, 86, 90, 88, 91], 'average': 87.8},\n",
       " {'name': 'Michael', 'scores': [90, 87, 84, 88, 92], 'average': 88.2},\n",
       " {'name': 'Nancy', 'scores': [85, 88, 92, 90, 78], 'average': 86.6},\n",
       " {'name': 'Oliver', 'scores': [92, 88, 85, 78, 90], 'average': 86.6},\n",
       " {'name': 'Pamela', 'scores': [88, 90, 78, 92, 85], 'average': 86.6},\n",
       " {'name': 'Quincy', 'scores': [85, 92, 88, 90, 78], 'average': 86.6},\n",
       " {'name': 'Rachel', 'scores': [90, 88, 85, 92, 78], 'average': 86.6},\n",
       " {'name': 'Samuel', 'scores': [78, 88, 90, 85, 92], 'average': 86.6},\n",
       " {'name': 'Tina', 'scores': [85, 78, 88, 92, 90], 'average': 86.6},\n",
       " {'name': 'Ulysses', 'scores': [92, 85, 88, 90, 78], 'average': 86.6}]"
      ]
     },
     "execution_count": 33,
     "metadata": {},
     "output_type": "execute_result"
    }
   ],
   "source": [
    "students"
   ]
  },
  {
   "cell_type": "code",
   "execution_count": 48,
   "metadata": {},
   "outputs": [
    {
     "data": {
      "text/plain": [
       "{'name': 'Eve', 'scores': [92, 91, 89, 87, 84], 'average': 88.6}"
      ]
     },
     "execution_count": 48,
     "metadata": {},
     "output_type": "execute_result"
    }
   ],
   "source": [
    "list(reversed(sorted(students, key = lambda stu: stu['average'])))[0]"
   ]
  },
  {
   "cell_type": "code",
   "execution_count": 49,
   "metadata": {},
   "outputs": [
    {
     "data": {
      "text/plain": [
       "['Eve', 88.6]"
      ]
     },
     "execution_count": 49,
     "metadata": {},
     "output_type": "execute_result"
    }
   ],
   "source": [
    "students_averages = list(map(lambda st: [st['name'], st['average']], students))\n",
    "first_position = reduce(lambda x, y: x if x[1] > y[1] else y, students_averages)\n",
    "first_position"
   ]
  },
  {
   "cell_type": "code",
   "execution_count": 65,
   "metadata": {},
   "outputs": [
    {
     "name": "stdout",
     "output_type": "stream",
     "text": [
      "['Alice', 86.6] ['Bob', 86.6]\n",
      "None ['Charlie', 86.6]\n",
      "None ['David', 86.2]\n",
      "None ['Eve', 88.6]\n",
      "None ['Frank', 84.8]\n",
      "None ['Grace', 88.4]\n",
      "None ['Helen', 86.8]\n",
      "None ['Isaac', 86.0]\n",
      "None ['Julia', 88.0]\n",
      "None ['Kevin', 86.6]\n",
      "None ['Linda', 87.8]\n",
      "None ['Michael', 88.2]\n",
      "None ['Nancy', 86.6]\n",
      "None ['Oliver', 86.6]\n",
      "None ['Pamela', 86.6]\n",
      "None ['Quincy', 86.6]\n",
      "None ['Rachel', 86.6]\n",
      "None ['Samuel', 86.6]\n",
      "None ['Tina', 86.6]\n",
      "None ['Ulysses', 86.6]\n"
     ]
    }
   ],
   "source": [
    "class_average = accumulate(lambda x, y: print(x, y), students_averages)"
   ]
  }
 ],
 "metadata": {
  "kernelspec": {
   "display_name": "Python 3",
   "language": "python",
   "name": "python3"
  },
  "language_info": {
   "codemirror_mode": {
    "name": "ipython",
    "version": 3
   },
   "file_extension": ".py",
   "mimetype": "text/x-python",
   "name": "python",
   "nbconvert_exporter": "python",
   "pygments_lexer": "ipython3",
   "version": "3.9.5"
  }
 },
 "nbformat": 4,
 "nbformat_minor": 2
}
