{
 "cells": [
  {
   "cell_type": "markdown",
   "metadata": {},
   "source": [
    "*Lambda Map Reduce Filter etc Functions*"
   ]
  },
  {
   "cell_type": "code",
   "execution_count": 12,
   "metadata": {},
   "outputs": [],
   "source": [
    "def calculate_power(mylist):\n",
    "    return mylist**2"
   ]
  },
  {
   "cell_type": "code",
   "execution_count": 13,
   "metadata": {},
   "outputs": [
    {
     "data": {
      "text/plain": [
       "[1, 4, 9, 16, 25]"
      ]
     },
     "execution_count": 13,
     "metadata": {},
     "output_type": "execute_result"
    }
   ],
   "source": [
    "numbers = [1, 2, 3, 4, 5]\n",
    "powered = list(map(calculate_power, numbers))\n",
    "powered"
   ]
  },
  {
   "cell_type": "code",
   "execution_count": 14,
   "metadata": {},
   "outputs": [],
   "source": [
    "def get_even(value):\n",
    "    return value if value % 2 == 0 else None"
   ]
  },
  {
   "cell_type": "code",
   "execution_count": 16,
   "metadata": {},
   "outputs": [
    {
     "data": {
      "text/plain": [
       "[2, 4]"
      ]
     },
     "execution_count": 16,
     "metadata": {},
     "output_type": "execute_result"
    }
   ],
   "source": [
    "even = list(filter(get_even, numbers))\n",
    "even"
   ]
  },
  {
   "cell_type": "markdown",
   "metadata": {},
   "source": [
    "*Reduce*"
   ]
  },
  {
   "cell_type": "code",
   "execution_count": 17,
   "metadata": {},
   "outputs": [],
   "source": [
    "from functools import reduce"
   ]
  },
  {
   "cell_type": "code",
   "execution_count": 27,
   "metadata": {},
   "outputs": [],
   "source": [
    "def sub_values(num1, num2):\n",
    "    print(f\"{num1} - {num2}\")\n",
    "    return num1 - num2 "
   ]
  },
  {
   "cell_type": "code",
   "execution_count": 28,
   "metadata": {},
   "outputs": [
    {
     "name": "stdout",
     "output_type": "stream",
     "text": [
      "1 - 2\n",
      "-1 - 3\n",
      "-4 - 4\n",
      "-8 - 5\n"
     ]
    },
    {
     "data": {
      "text/plain": [
       "-13"
      ]
     },
     "execution_count": 28,
     "metadata": {},
     "output_type": "execute_result"
    }
   ],
   "source": [
    "reduce_result = reduce(sub_values, numbers)\n",
    "reduce_result"
   ]
  },
  {
   "cell_type": "markdown",
   "metadata": {},
   "source": [
    "*Accumulate*"
   ]
  },
  {
   "cell_type": "code",
   "execution_count": 30,
   "metadata": {},
   "outputs": [],
   "source": [
    "from itertools import accumulate"
   ]
  },
  {
   "cell_type": "code",
   "execution_count": 29,
   "metadata": {},
   "outputs": [],
   "source": [
    "def product(num1, num2):\n",
    "    print(f\"{num1} , {num2}\")\n",
    "    return num1 * num2"
   ]
  },
  {
   "cell_type": "code",
   "execution_count": 33,
   "metadata": {},
   "outputs": [
    {
     "name": "stdout",
     "output_type": "stream",
     "text": [
      "1 , 2\n",
      "2 , 3\n",
      "6 , 4\n",
      "24 , 5\n"
     ]
    },
    {
     "data": {
      "text/plain": [
       "[1, 2, 6, 24, 120]"
      ]
     },
     "execution_count": 33,
     "metadata": {},
     "output_type": "execute_result"
    }
   ],
   "source": [
    "prod = list(accumulate(func=product, iterable=numbers))\n",
    "prod"
   ]
  },
  {
   "cell_type": "markdown",
   "metadata": {},
   "source": [
    "*Lambda Functions*"
   ]
  },
  {
   "cell_type": "markdown",
   "metadata": {},
   "source": [
    "Lambda Functions are Anonymous functions, it can have multiple arguments but have only one expression. Expression is evaluated and returned"
   ]
  },
  {
   "cell_type": "code",
   "execution_count": 34,
   "metadata": {},
   "outputs": [],
   "source": [
    "import re"
   ]
  },
  {
   "cell_type": "code",
   "execution_count": 35,
   "metadata": {},
   "outputs": [],
   "source": [
    "def remove_special_characters(mystr):\n",
    "    return re.sub(r'[^0-9a-zA-Z\\s]', '', mystr)"
   ]
  },
  {
   "cell_type": "code",
   "execution_count": 36,
   "metadata": {},
   "outputs": [],
   "source": [
    "text = \"Lorem ipsum dolor sit amet, consectetur adipiscing elit. Fusce ac % ma&@( *** 88 )@ urna *** 8# 7! et ligula. Sed $^%#% varius tortor vel #@@@@%## lacinia! Nullam volutpat! ? adipiscing @^%#% aliquam, id euismod **#^!&^ purus e#@%%, ultricies velit. Etiam ultricies &^$#&% 8# urna at !^#+ malesuada. Aenean eget %?##%## interdum mi, $@@%#& eget ?##%## varius mi. Nullam sed $@##^?^@$ orci. Suspendisse vel ^^#!(@ placerat %!^&%% ligula, !^^$! 8##?%#^&$ vitae!#^%?## vel !&%!$!&%! eu. Sed congue eros $&^?@& in *** ex ultricies %^?^!@&##. In in condimentum! ??$#!# eu ?#?##$ neque. Pellentesque tristique %%%$%## eleifend. Fusce !##&(@ consectetur arcu. Nullam eget ##^^$ condimentum. Etiam sed %^?%% urna ?$?%%# id ?^!?%% pretium. Quisque $#?%@?(@ eu @?%#$# velit. Suspendisse potenti. Sed $#&##%( eros, eu euismod arcu. Nunc fringilla ^@%##% elit %##%%# non ?#%%^ rhoncus. Nunc !?#!?#?# nec %!^^%!% semper $!%#!@%??@!@#. Donec %^!##?^#@ sit amet $@@#!# lectus. Quisque vitae $%%?%@ odio. Nulla elementum, !#?@&^@## vel ^#^%%#??*??#$# consequat. Integer %%%%$%%## laoreet urna. Morbi non $?@?^?^?@##@?## ipsum. Mauris consequat $^##%%#($#@% non ^%@!$#?#@!^? urna $@#^$##@. Vivamus $^$#% consequat ##^#$$%##! eu $@#?#??##?#@%##?@?###?#?#?#?#?!##?#?#? eu volutpat.\""
   ]
  },
  {
   "cell_type": "code",
   "execution_count": 37,
   "metadata": {},
   "outputs": [
    {
     "name": "stdout",
     "output_type": "stream",
     "text": [
      "Lorem ipsum dolor sit amet, consectetur adipiscing elit. Fusce ac % ma&@( *** 88 )@ urna *** 8# 7! et ligula. Sed $^%#% varius tortor vel #@@@@%## lacinia! Nullam volutpat! ? adipiscing @^%#% aliquam, id euismod **#^!&^ purus e#@%%, ultricies velit. Etiam ultricies &^$#&% 8# urna at !^#+ malesuada. Aenean eget %?##%## interdum mi, $@@%#& eget ?##%## varius mi. Nullam sed $@##^?^@$ orci. Suspendisse vel ^^#!(@ placerat %!^&%% ligula, !^^$! 8##?%#^&$ vitae!#^%?## vel !&%!$!&%! eu. Sed congue eros $&^?@& in *** ex ultricies %^?^!@&##. In in condimentum! ??$#!# eu ?#?##$ neque. Pellentesque tristique %%%$%## eleifend. Fusce !##&(@ consectetur arcu. Nullam eget ##^^$ condimentum. Etiam sed %^?%% urna ?$?%%# id ?^!?%% pretium. Quisque $#?%@?(@ eu @?%#$# velit. Suspendisse potenti. Sed $#&##%( eros, eu euismod arcu. Nunc fringilla ^@%##% elit %##%%# non ?#%%^ rhoncus. Nunc !?#!?#?# nec %!^^%!% semper $!%#!@%??@!@#. Donec %^!##?^#@ sit amet $@@#!# lectus. Quisque vitae $%%?%@ odio. Nulla elementum, !#?@&^@## vel ^#^%%#??*??#$# consequat. Integer %%%%$%%## laoreet urna. Morbi non $?@?^?^?@##@?## ipsum. Mauris consequat $^##%%#($#@% non ^%@!$#?#@!^? urna $@#^$##@. Vivamus $^$#% consequat ##^#$$%##! eu $@#?#??##?#@%##?@?###?#?#?#?#?!##?#?#? eu volutpat.\n"
     ]
    }
   ],
   "source": [
    "print(text)"
   ]
  },
  {
   "cell_type": "code",
   "execution_count": 38,
   "metadata": {},
   "outputs": [
    {
     "data": {
      "text/plain": [
       "'Lorem ipsum dolor sit amet consectetur adipiscing elit Fusce ac  ma  88  urna  8 7 et ligula Sed  varius tortor vel  lacinia Nullam volutpat  adipiscing  aliquam id euismod  purus e ultricies velit Etiam ultricies  8 urna at  malesuada Aenean eget  interdum mi  eget  varius mi Nullam sed  orci Suspendisse vel  placerat  ligula  8 vitae vel  eu Sed congue eros  in  ex ultricies  In in condimentum  eu  neque Pellentesque tristique  eleifend Fusce  consectetur arcu Nullam eget  condimentum Etiam sed  urna  id  pretium Quisque  eu  velit Suspendisse potenti Sed  eros eu euismod arcu Nunc fringilla  elit  non  rhoncus Nunc  nec  semper  Donec  sit amet  lectus Quisque vitae  odio Nulla elementum  vel  consequat Integer  laoreet urna Morbi non  ipsum Mauris consequat  non  urna  Vivamus  consequat  eu  eu volutpat'"
      ]
     },
     "execution_count": 38,
     "metadata": {},
     "output_type": "execute_result"
    }
   ],
   "source": [
    "remove_special_characters(text) "
   ]
  },
  {
   "cell_type": "code",
   "execution_count": 39,
   "metadata": {},
   "outputs": [
    {
     "data": {
      "text/plain": [
       "'Lorem ipsum dolor sit amet consectetur adipiscing elit Fusce ac  ma  88  urna  8 7 et ligula Sed  varius tortor vel  lacinia Nullam volutpat  adipiscing  aliquam id euismod  purus e ultricies velit Etiam ultricies  8 urna at  malesuada Aenean eget  interdum mi  eget  varius mi Nullam sed  orci Suspendisse vel  placerat  ligula  8 vitae vel  eu Sed congue eros  in  ex ultricies  In in condimentum  eu  neque Pellentesque tristique  eleifend Fusce  consectetur arcu Nullam eget  condimentum Etiam sed  urna  id  pretium Quisque  eu  velit Suspendisse potenti Sed  eros eu euismod arcu Nunc fringilla  elit  non  rhoncus Nunc  nec  semper  Donec  sit amet  lectus Quisque vitae  odio Nulla elementum  vel  consequat Integer  laoreet urna Morbi non  ipsum Mauris consequat  non  urna  Vivamus  consequat  eu  eu volutpat'"
      ]
     },
     "execution_count": 39,
     "metadata": {},
     "output_type": "execute_result"
    }
   ],
   "source": [
    "remove_special_characters_lambda = lambda mystr: re.sub(r'[^0-9a-zA-Z\\s]', '', mystr)\n",
    "remove_special_characters(text)"
   ]
  }
 ],
 "metadata": {
  "kernelspec": {
   "display_name": "Python 3",
   "language": "python",
   "name": "python3"
  },
  "language_info": {
   "codemirror_mode": {
    "name": "ipython",
    "version": 3
   },
   "file_extension": ".py",
   "mimetype": "text/x-python",
   "name": "python",
   "nbconvert_exporter": "python",
   "pygments_lexer": "ipython3",
   "version": "3.9.5"
  }
 },
 "nbformat": 4,
 "nbformat_minor": 2
}
