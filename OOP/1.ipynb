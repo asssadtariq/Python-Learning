{
 "cells": [
  {
   "cell_type": "markdown",
   "metadata": {},
   "source": [
    "# What is OOP?\n",
    "Programming technique that organizes software design around data, or objects instead of logic and functions"
   ]
  },
  {
   "cell_type": "markdown",
   "metadata": {},
   "source": [
    "# Building blocks of OOP\n",
    "1. Class - blueprint for an objects, attributes, and methods \n",
    "2. Objects - instances of class\n",
    "3. Methods - functions defined inside class\n",
    "4. Attributes - variables inside class"
   ]
  },
  {
   "cell_type": "markdown",
   "metadata": {},
   "source": [
    "# OOP in Python\n",
    "We need to use class keyword to make a class in python.<br>For example<br>"
   ]
  },
  {
   "cell_type": "code",
   "execution_count": null,
   "metadata": {},
   "outputs": [],
   "source": [
    "''' Here \n",
    "    Shape is a class \n",
    "    name(self.name) is an attribute\n",
    "    __init__ is a method (constructor)\n",
    "'''\n",
    "class Shape():\n",
    "    def __init__(self, shape_name):\n",
    "        self.name = shape_name\n",
    "    \n",
    "    def __str__(self):\n",
    "        return \"Shape Name = {}\".format(self.name)"
   ]
  },
  {
   "cell_type": "code",
   "execution_count": null,
   "metadata": {},
   "outputs": [],
   "source": [
    "# circle is an object\n",
    "circle = Shape(shape_name=\"circle\")\n",
    "print(circle)"
   ]
  }
 ],
 "metadata": {
  "kernelspec": {
   "display_name": "Python 3",
   "language": "python",
   "name": "python3"
  },
  "language_info": {
   "name": "python",
   "version": "3.11.0"
  }
 },
 "nbformat": 4,
 "nbformat_minor": 2
}
