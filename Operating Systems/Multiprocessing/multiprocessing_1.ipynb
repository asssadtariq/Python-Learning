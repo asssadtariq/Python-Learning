{
 "cells": [
  {
   "cell_type": "markdown",
   "metadata": {},
   "source": [
    "References: https://www.geeksforgeeks.org/multiprocessing-python-set-1/\n",
    "\n",
    "*What is Multi-Processing:*\n",
    "Multiprocessing refers to the ability of a system to support more than one processor at the same time. \n",
    "Applications in a multiprocessing system are broken to smaller routines that run independently. \n",
    "The operating system allocates these threads to the processors improving performance of the system\n"
   ]
  },
  {
   "cell_type": "code",
   "execution_count": 7,
   "metadata": {},
   "outputs": [
    {
     "name": "stdout",
     "output_type": "stream",
     "text": [
      "FINISH\n"
     ]
    }
   ],
   "source": [
    "import multiprocessing\n",
    "import time\n",
    "\n",
    "def count_word(text, word):\n",
    "    time.sleep(10)\n",
    "    print(text.split(\" \").count(word))\n",
    "\n",
    "def count_character(text, char):\n",
    "    time.sleep(5)\n",
    "    print(text.count(char))\n",
    "\n",
    "def main():\n",
    "    text = '''\n",
    "    In the bustling city, neon lights flickered above the crowded streets, casting an energetic glow that mirrored the vibrant pulse of the city. People hurriedly hurried along the sidewalks, their faces absorbed in the hurried rhythm of their daily lives. Amidst the hurried pace, a sense of urgency lingered in the air, as if time itself were in a hurry, pushing everyone to move at a hurried speed\n",
    "    '''\n",
    "    word_to_count = \"streets\"\n",
    "    chr_to_count = \"c\"\n",
    "\n",
    "    p1 = multiprocessing.Process(target=count_word, args=(text, word_to_count, ))\n",
    "    p2 = multiprocessing.Process(target=count_character, args=(text, chr_to_count, ))\n",
    "\n",
    "    p1.start()\n",
    "    p2.start()\n",
    "\n",
    "    # p1.join()\n",
    "    p2.join()\n",
    "\n",
    "    print(\"FINISH\")\n",
    "\n",
    "if __name__ == \"__main__\":\n",
    "    main()\n",
    "    "
   ]
  },
  {
   "cell_type": "code",
   "execution_count": null,
   "metadata": {},
   "outputs": [],
   "source": []
  }
 ],
 "metadata": {
  "kernelspec": {
   "display_name": "Python 3",
   "language": "python",
   "name": "python3"
  },
  "language_info": {
   "codemirror_mode": {
    "name": "ipython",
    "version": 3
   },
   "file_extension": ".py",
   "mimetype": "text/x-python",
   "name": "python",
   "nbconvert_exporter": "python",
   "pygments_lexer": "ipython3",
   "version": "3.9.5"
  }
 },
 "nbformat": 4,
 "nbformat_minor": 2
}
